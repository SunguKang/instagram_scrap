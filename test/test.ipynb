import pandas as pd
from diffusders import DiffusionPipeline
import torch

def generate_images():
    # Step 1: Read the combination ranking CSV file
    print("Reading the combination ranking CSV file...")
    combination_ranking = pd.read_csv('./images/segmented_images_moritz_test/combination_ranking.csv')

    # Convert the combination ranking into a list of tuples
    top_combinations = list(combination_ranking.itertuples(index=False, name=None))

    # Step 2: Initialize the text-to-image model
    print("Initializing the text-to-image model...")
    pipeline = DiffusionPipeline.from_pretrained("fluently/Fluently-XL-v2")
    pipeline.load_lora_weights("ehristoforu/dalle-3-xl-v2")
    pipeline = pipeline.to("cuda")

    # Step 3: Generate images for the top-ranking combinations
    print("Generating images for the top-ranking combinations...")
    for color, item in top_combinations[:5]:  # Adjust the number to your preference
        prompt = f"A trendy outfit featuring a {color} {item}"
        images = pipeline(prompt).images
        images[0].save(f"generated_{color}_{item}.png")
        print(f"Generated image for {color} {item}")

if __name__ == "__main__":
    generate_images()

exit()